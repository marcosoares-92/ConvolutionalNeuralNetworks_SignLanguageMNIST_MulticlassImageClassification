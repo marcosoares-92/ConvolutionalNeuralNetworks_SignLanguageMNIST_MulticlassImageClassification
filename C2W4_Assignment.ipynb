{
    "metadata": {
        "kernelspec": {
            "name": "python3",
            "display_name": "Python 3 (ipykernel)",
            "language": "python"
        },
        "language_info": {
            "name": "python",
            "version": "3.8.10",
            "mimetype": "text/x-python",
            "codemirror_mode": {
                "name": "ipython",
                "version": 3
            },
            "pygments_lexer": "ipython3",
            "nbconvert_exporter": "python",
            "file_extension": ".py"
        },
        "accelerator": "GPU",
        "colab": {
            "name": "C2W4_Assignment.ipynb",
            "provenance": []
        }
    },
    "nbformat_minor": 2,
    "nbformat": 4,
    "cells": [
        {
            "cell_type": "markdown",
            "source": [
                "# Week 4: Multi-class Classification\n",
                "\n",
                "Welcome to this assignment! In this exercise, you will get a chance to work on a multi-class classification problem. You will be using the [Sign Language MNIST](https://www.kaggle.com/datamunge/sign-language-mnist) dataset, which contains 28x28 images of hands depicting the 26 letters of the english alphabet. \n",
                "\n",
                "You will need to pre-process the data so that it can be fed into your convolutional neural network to correctly classify each image as the letter it represents.\n",
                "\n",
                "\n",
                "Let's get started!"
            ],
            "metadata": {
                "id": "0l5n9ToXGbRC",
                "azdata_cell_guid": "a53e84d1-3db8-4ba2-9155-8b7557fe9f2a"
            }
        },
        {
            "cell_type": "code",
            "source": [
                "import csv\n",
                "import string\n",
                "import numpy as np\n",
                "import tensorflow as tf\n",
                "import matplotlib.pyplot as plt\n",
                "from tensorflow.keras.preprocessing.image import ImageDataGenerator, array_to_img"
            ],
            "metadata": {
                "id": "wYtuKeK0dImp",
                "azdata_cell_guid": "af46bb9f-a4dc-449b-82a4-4cd72438582b"
            },
            "outputs": [],
            "execution_count": 34
        },
        {
            "cell_type": "markdown",
            "source": [
                "Download the training and test sets (the test set will actually be used as a validation set):"
            ],
            "metadata": {
                "id": "-zwAPcriH40C",
                "azdata_cell_guid": "7313ff3e-3d3c-464d-aa07-b378152d54ae"
            }
        },
        {
            "cell_type": "code",
            "source": [
                "# sign_mnist_train.csv\n",
                "!gdown --id 1z0DkA9BytlLxO1C0BAWzknLyQmZAp0HR\n",
                "# sign_mnist_test.csv\n",
                "!gdown --id 1z1BIj4qmri59GWBG4ivMNFtpZ4AXIbzg"
            ],
            "metadata": {
                "colab": {
                    "base_uri": "https://localhost:8080/"
                },
                "id": "lydsaiTvaRhI",
                "outputId": "4e3f2be2-1b8e-4515-f79a-5d1cd711809c",
                "azdata_cell_guid": "e66b7191-d30f-4f40-8955-5a64497244e5"
            },
            "outputs": [
                {
                    "output_type": "stream",
                    "name": "stdout",
                    "text": "/usr/local/lib/python3.7/dist-packages/gdown/cli.py:131: FutureWarning: Option `--id` was deprecated in version 4.3.1 and will be removed in 5.0. You don't need to pass it anymore to use a file ID.\n  category=FutureWarning,\nDownloading...\nFrom: https://drive.google.com/uc?id=1z0DkA9BytlLxO1C0BAWzknLyQmZAp0HR\nTo: /content/sign_mnist_train.csv\n100% 83.3M/83.3M [00:00<00:00, 280MB/s]\n/usr/local/lib/python3.7/dist-packages/gdown/cli.py:131: FutureWarning: Option `--id` was deprecated in version 4.3.1 and will be removed in 5.0. You don't need to pass it anymore to use a file ID.\n  category=FutureWarning,\nDownloading...\nFrom: https://drive.google.com/uc?id=1z1BIj4qmri59GWBG4ivMNFtpZ4AXIbzg\nTo: /content/sign_mnist_test.csv\n100% 21.8M/21.8M [00:00<00:00, 131MB/s] \n"
                }
            ],
            "execution_count": 35
        },
        {
            "cell_type": "markdown",
            "source": [
                "Define some globals with the path to both files you just downloaded:"
            ],
            "metadata": {
                "id": "tnVJZI96IMh0",
                "azdata_cell_guid": "e35d9cd8-5541-40e8-9ad1-fe79c7a17eee"
            }
        },
        {
            "cell_type": "code",
            "source": [
                "TRAINING_FILE = './sign_mnist_train.csv'\n",
                "VALIDATION_FILE = './sign_mnist_test.csv'"
            ],
            "metadata": {
                "id": "N3fQlI99JPw9",
                "azdata_cell_guid": "9696a1f6-ac2f-4197-ad52-6c453a409a1b"
            },
            "outputs": [],
            "execution_count": 36
        },
        {
            "cell_type": "markdown",
            "source": [
                "Unlike previous assignments, you will not have the actual images provided, instead you will have the data serialized as `csv` files.\n",
                "\n",
                "Take a look at how the data looks like within the `csv` file:"
            ],
            "metadata": {
                "id": "iybvOtoHISHV",
                "azdata_cell_guid": "13b079f5-30fc-4e8e-a058-6aefd1dbd428"
            }
        },
        {
            "cell_type": "code",
            "source": [
                "with open(TRAINING_FILE) as training_file:\n",
                "  line = training_file.readline()\n",
                "  print(f\"First line (header) looks like this:\\n{line}\")\n",
                "  line = training_file.readline()\n",
                "  print(f\"Each subsequent line (data points) look like this:\\n{line}\")"
            ],
            "metadata": {
                "colab": {
                    "base_uri": "https://localhost:8080/"
                },
                "id": "ftfeq3JYagks",
                "outputId": "282a6594-e89a-45a4-ef23-51cdf488abcf",
                "azdata_cell_guid": "1856460c-3296-4bae-9579-40b16dbec16b"
            },
            "outputs": [
                {
                    "output_type": "stream",
                    "name": "stdout",
                    "text": "First line (header) looks like this:\nlabel,pixel1,pixel2,pixel3,pixel4,pixel5,pixel6,pixel7,pixel8,pixel9,pixel10,pixel11,pixel12,pixel13,pixel14,pixel15,pixel16,pixel17,pixel18,pixel19,pixel20,pixel21,pixel22,pixel23,pixel24,pixel25,pixel26,pixel27,pixel28,pixel29,pixel30,pixel31,pixel32,pixel33,pixel34,pixel35,pixel36,pixel37,pixel38,pixel39,pixel40,pixel41,pixel42,pixel43,pixel44,pixel45,pixel46,pixel47,pixel48,pixel49,pixel50,pixel51,pixel52,pixel53,pixel54,pixel55,pixel56,pixel57,pixel58,pixel59,pixel60,pixel61,pixel62,pixel63,pixel64,pixel65,pixel66,pixel67,pixel68,pixel69,pixel70,pixel71,pixel72,pixel73,pixel74,pixel75,pixel76,pixel77,pixel78,pixel79,pixel80,pixel81,pixel82,pixel83,pixel84,pixel85,pixel86,pixel87,pixel88,pixel89,pixel90,pixel91,pixel92,pixel93,pixel94,pixel95,pixel96,pixel97,pixel98,pixel99,pixel100,pixel101,pixel102,pixel103,pixel104,pixel105,pixel106,pixel107,pixel108,pixel109,pixel110,pixel111,pixel112,pixel113,pixel114,pixel115,pixel116,pixel117,pixel118,pixel119,pixel120,pixel121,pixel122,pixel123,pixel124,pixel125,pixel126,pixel127,pixel128,pixel129,pixel130,pixel131,pixel132,pixel133,pixel134,pixel135,pixel136,pixel137,pixel138,pixel139,pixel140,pixel141,pixel142,pixel143,pixel144,pixel145,pixel146,pixel147,pixel148,pixel149,pixel150,pixel151,pixel152,pixel153,pixel154,pixel155,pixel156,pixel157,pixel158,pixel159,pixel160,pixel161,pixel162,pixel163,pixel164,pixel165,pixel166,pixel167,pixel168,pixel169,pixel170,pixel171,pixel172,pixel173,pixel174,pixel175,pixel176,pixel177,pixel178,pixel179,pixel180,pixel181,pixel182,pixel183,pixel184,pixel185,pixel186,pixel187,pixel188,pixel189,pixel190,pixel191,pixel192,pixel193,pixel194,pixel195,pixel196,pixel197,pixel198,pixel199,pixel200,pixel201,pixel202,pixel203,pixel204,pixel205,pixel206,pixel207,pixel208,pixel209,pixel210,pixel211,pixel212,pixel213,pixel214,pixel215,pixel216,pixel217,pixel218,pixel219,pixel220,pixel221,pixel222,pixel223,pixel224,pixel225,pixel226,pixel227,pixel228,pixel229,pixel230,pixel231,pixel232,pixel233,pixel234,pixel235,pixel236,pixel237,pixel238,pixel239,pixel240,pixel241,pixel242,pixel243,pixel244,pixel245,pixel246,pixel247,pixel248,pixel249,pixel250,pixel251,pixel252,pixel253,pixel254,pixel255,pixel256,pixel257,pixel258,pixel259,pixel260,pixel261,pixel262,pixel263,pixel264,pixel265,pixel266,pixel267,pixel268,pixel269,pixel270,pixel271,pixel272,pixel273,pixel274,pixel275,pixel276,pixel277,pixel278,pixel279,pixel280,pixel281,pixel282,pixel283,pixel284,pixel285,pixel286,pixel287,pixel288,pixel289,pixel290,pixel291,pixel292,pixel293,pixel294,pixel295,pixel296,pixel297,pixel298,pixel299,pixel300,pixel301,pixel302,pixel303,pixel304,pixel305,pixel306,pixel307,pixel308,pixel309,pixel310,pixel311,pixel312,pixel313,pixel314,pixel315,pixel316,pixel317,pixel318,pixel319,pixel320,pixel321,pixel322,pixel323,pixel324,pixel325,pixel326,pixel327,pixel328,pixel329,pixel330,pixel331,pixel332,pixel333,pixel334,pixel335,pixel336,pixel337,pixel338,pixel339,pixel340,pixel341,pixel342,pixel343,pixel344,pixel345,pixel346,pixel347,pixel348,pixel349,pixel350,pixel351,pixel352,pixel353,pixel354,pixel355,pixel356,pixel357,pixel358,pixel359,pixel360,pixel361,pixel362,pixel363,pixel364,pixel365,pixel366,pixel367,pixel368,pixel369,pixel370,pixel371,pixel372,pixel373,pixel374,pixel375,pixel376,pixel377,pixel378,pixel379,pixel380,pixel381,pixel382,pixel383,pixel384,pixel385,pixel386,pixel387,pixel388,pixel389,pixel390,pixel391,pixel392,pixel393,pixel394,pixel395,pixel396,pixel397,pixel398,pixel399,pixel400,pixel401,pixel402,pixel403,pixel404,pixel405,pixel406,pixel407,pixel408,pixel409,pixel410,pixel411,pixel412,pixel413,pixel414,pixel415,pixel416,pixel417,pixel418,pixel419,pixel420,pixel421,pixel422,pixel423,pixel424,pixel425,pixel426,pixel427,pixel428,pixel429,pixel430,pixel431,pixel432,pixel433,pixel434,pixel435,pixel436,pixel437,pixel438,pixel439,pixel440,pixel441,pixel442,pixel443,pixel444,pixel445,pixel446,pixel447,pixel448,pixel449,pixel450,pixel451,pixel452,pixel453,pixel454,pixel455,pixel456,pixel457,pixel458,pixel459,pixel460,pixel461,pixel462,pixel463,pixel464,pixel465,pixel466,pixel467,pixel468,pixel469,pixel470,pixel471,pixel472,pixel473,pixel474,pixel475,pixel476,pixel477,pixel478,pixel479,pixel480,pixel481,pixel482,pixel483,pixel484,pixel485,pixel486,pixel487,pixel488,pixel489,pixel490,pixel491,pixel492,pixel493,pixel494,pixel495,pixel496,pixel497,pixel498,pixel499,pixel500,pixel501,pixel502,pixel503,pixel504,pixel505,pixel506,pixel507,pixel508,pixel509,pixel510,pixel511,pixel512,pixel513,pixel514,pixel515,pixel516,pixel517,pixel518,pixel519,pixel520,pixel521,pixel522,pixel523,pixel524,pixel525,pixel526,pixel527,pixel528,pixel529,pixel530,pixel531,pixel532,pixel533,pixel534,pixel535,pixel536,pixel537,pixel538,pixel539,pixel540,pixel541,pixel542,pixel543,pixel544,pixel545,pixel546,pixel547,pixel548,pixel549,pixel550,pixel551,pixel552,pixel553,pixel554,pixel555,pixel556,pixel557,pixel558,pixel559,pixel560,pixel561,pixel562,pixel563,pixel564,pixel565,pixel566,pixel567,pixel568,pixel569,pixel570,pixel571,pixel572,pixel573,pixel574,pixel575,pixel576,pixel577,pixel578,pixel579,pixel580,pixel581,pixel582,pixel583,pixel584,pixel585,pixel586,pixel587,pixel588,pixel589,pixel590,pixel591,pixel592,pixel593,pixel594,pixel595,pixel596,pixel597,pixel598,pixel599,pixel600,pixel601,pixel602,pixel603,pixel604,pixel605,pixel606,pixel607,pixel608,pixel609,pixel610,pixel611,pixel612,pixel613,pixel614,pixel615,pixel616,pixel617,pixel618,pixel619,pixel620,pixel621,pixel622,pixel623,pixel624,pixel625,pixel626,pixel627,pixel628,pixel629,pixel630,pixel631,pixel632,pixel633,pixel634,pixel635,pixel636,pixel637,pixel638,pixel639,pixel640,pixel641,pixel642,pixel643,pixel644,pixel645,pixel646,pixel647,pixel648,pixel649,pixel650,pixel651,pixel652,pixel653,pixel654,pixel655,pixel656,pixel657,pixel658,pixel659,pixel660,pixel661,pixel662,pixel663,pixel664,pixel665,pixel666,pixel667,pixel668,pixel669,pixel670,pixel671,pixel672,pixel673,pixel674,pixel675,pixel676,pixel677,pixel678,pixel679,pixel680,pixel681,pixel682,pixel683,pixel684,pixel685,pixel686,pixel687,pixel688,pixel689,pixel690,pixel691,pixel692,pixel693,pixel694,pixel695,pixel696,pixel697,pixel698,pixel699,pixel700,pixel701,pixel702,pixel703,pixel704,pixel705,pixel706,pixel707,pixel708,pixel709,pixel710,pixel711,pixel712,pixel713,pixel714,pixel715,pixel716,pixel717,pixel718,pixel719,pixel720,pixel721,pixel722,pixel723,pixel724,pixel725,pixel726,pixel727,pixel728,pixel729,pixel730,pixel731,pixel732,pixel733,pixel734,pixel735,pixel736,pixel737,pixel738,pixel739,pixel740,pixel741,pixel742,pixel743,pixel744,pixel745,pixel746,pixel747,pixel748,pixel749,pixel750,pixel751,pixel752,pixel753,pixel754,pixel755,pixel756,pixel757,pixel758,pixel759,pixel760,pixel761,pixel762,pixel763,pixel764,pixel765,pixel766,pixel767,pixel768,pixel769,pixel770,pixel771,pixel772,pixel773,pixel774,pixel775,pixel776,pixel777,pixel778,pixel779,pixel780,pixel781,pixel782,pixel783,pixel784\n\nEach subsequent line (data points) look like this:\n3,107,118,127,134,139,143,146,150,153,156,158,160,163,165,159,166,168,170,170,171,171,171,172,171,171,170,170,169,111,121,129,135,141,144,148,151,154,157,160,163,164,170,119,152,171,171,170,171,172,172,172,172,172,171,171,170,113,123,131,137,142,145,150,152,155,158,161,163,164,172,105,142,170,171,171,171,172,172,173,173,172,171,171,171,116,125,133,139,143,146,151,153,156,159,162,163,167,167,95,144,171,172,172,172,172,172,173,173,173,172,172,171,117,126,134,140,145,149,153,156,158,161,163,164,175,156,87,154,172,173,173,173,173,173,174,174,174,173,172,172,119,128,136,142,146,150,153,156,159,163,165,164,184,148,89,164,172,174,174,174,174,175,175,174,175,174,173,173,122,130,138,143,147,150,154,158,162,165,166,172,181,128,94,170,173,175,174,175,176,177,177,177,177,175,175,174,122,132,139,145,149,152,156,160,163,165,166,181,172,103,113,175,176,178,178,179,179,179,179,178,179,177,175,174,125,134,141,147,150,153,157,161,164,167,168,184,179,116,126,165,176,179,180,180,181,180,180,180,179,178,177,176,128,135,142,148,152,154,158,162,165,168,170,187,180,156,161,124,143,179,178,178,181,182,181,180,181,180,179,179,129,136,144,150,153,155,159,163,166,169,172,187,184,153,102,117,110,175,169,154,182,183,183,182,182,181,181,179,131,138,145,150,155,157,161,165,168,174,190,189,175,146,94,97,113,151,158,129,184,184,184,184,183,183,182,180,131,139,146,151,155,159,163,167,175,182,179,171,159,114,102,89,121,136,136,96,172,186,186,185,185,184,182,181,131,140,147,154,157,160,164,179,186,191,187,180,157,100,88,84,108,111,126,90,120,186,187,187,186,185,184,182,133,141,149,155,158,160,174,201,189,165,151,143,146,120,87,78,87,76,108,98,96,181,188,187,186,186,185,183,133,141,150,156,160,161,179,197,174,135,99,72,95,134,97,72,74,68,116,105,108,187,189,187,187,186,186,185,134,143,151,156,161,163,179,194,156,110,74,42,52,139,94,67,75,75,118,106,129,189,191,190,188,188,187,186,135,144,152,158,163,163,177,193,161,122,84,43,71,134,81,57,71,88,112,98,157,193,193,192,190,190,189,188,136,144,152,158,162,163,176,192,164,128,98,62,60,100,71,76,96,101,105,95,174,195,194,194,194,193,191,190,137,145,152,159,164,165,178,191,164,135,113,82,59,87,98,111,120,108,97,108,190,196,195,195,194,193,193,192,139,146,154,160,164,165,175,186,163,139,112,85,67,102,126,133,126,105,104,176,197,198,197,196,195,195,194,193,138,147,155,161,165,167,172,186,163,137,107,87,76,106,122,125,117,96,156,199,199,200,198,196,196,195,195,194,139,148,156,163,166,168,172,180,158,131,108,99,86,108,118,116,103,107,191,202,201,200,200,200,199,197,198,196,140,149,157,164,168,167,177,178,155,131,118,105,87,100,106,100,96,164,202,202,202,202,202,201,200,199,199,198,140,150,157,165,167,170,181,175,152,130,115,98,82,85,90,99,165,202,203,204,203,203,202,202,201,201,200,200,142,150,159,165,170,191,173,157,144,119,97,84,79,79,91,172,202,203,203,205,204,204,204,203,202,202,201,200,142,151,160,165,188,190,187,150,119,109,85,79,79,78,137,203,205,206,206,207,207,206,206,204,205,204,203,202,142,151,160,172,196,188,188,190,135,96,86,77,77,79,176,205,207,207,207,207,207,207,206,206,206,204,203,202\n\n"
                }
            ],
            "execution_count": 37
        },
        {
            "cell_type": "markdown",
            "source": [
                "As you can see, each file includes a header (the first line) and each subsequent data point is represented as a line that contains 785 values. \n",
                "\n",
                "The first value is the label (the numeric representation of each letter) and the other 784 values are the value of each pixel of the image. Remember that the original images have a resolution of 28x28, which sums up to 784 pixels."
            ],
            "metadata": {
                "id": "RH23LS7RHA-U",
                "azdata_cell_guid": "15e602b9-eb78-4247-9152-604306b93989"
            }
        },
        {
            "cell_type": "markdown",
            "source": [
                " ## Parsing the dataset\n",
                " \n",
                " Now complete the `parse_data_from_input` below.\n",
                "\n",
                " This function should be able to read a file passed as input and return 2 numpy arrays, one containing the labels and one containing the 28x28 representation of each image within the file. These numpy arrays should have type `float64`.\n",
                "\n",
                " A couple of things to keep in mind:\n",
                " \n",
                "- The first line contains the column headers, so you should ignore it.\n",
                "\n",
                "- Each successive line contains 785 comma-separated values between 0 and 255\n",
                "  - The first value is the label\n",
                "\n",
                "  - The rest are the pixel values for that picture\n",
                "\n",
                "  \n",
                "  Tips:\n",
                "\n",
                "- `csv.reader` returns an iterable that returns a row of the csv file in each iteration.\n",
                "Following this convention, row[0] has the label and row[1:] has the 784 pixel values.\n",
                "\n",
                "- To reshape the arrays (going from 784 to 28x28), you can use functions such as [`np.array_split`](https://numpy.org/doc/stable/reference/generated/numpy.array_split.html) or [`np.reshape`](https://numpy.org/doc/stable/reference/generated/numpy.reshape.html).\n",
                "\n",
                "- For type conversion of the numpy arrays, use the method [`np.ndarray.astype`](https://numpy.org/doc/stable/reference/generated/numpy.ndarray.astype.html)."
            ],
            "metadata": {
                "id": "_Slnchp3JkCk",
                "azdata_cell_guid": "78a1a4d3-c1cc-4aac-9a83-81edfd77179e"
            }
        },
        {
            "cell_type": "code",
            "source": [
                "# GRADED FUNCTION: parse_data_from_input\n",
                "def parse_data_from_input(filename):\n",
                "  import numpy as np\n",
                "  \n",
                "  with open(filename) as file:\n",
                "    ### START CODE HERE\n",
                "    # File must be opened for you to use csv.reader function:\n",
                "    # https://docs.python.org/3/library/csv.html\n",
                "\n",
                "    #Start the list for storing labels and images:\n",
                "    labels = []\n",
                "    images = []\n",
                "\n",
                "    # Use csv.reader, passing in the appropriate delimiter\n",
                "    # Remember that csv.reader can be iterated and returns one line in each iteration\n",
                "    csv_reader = csv.reader(file, delimiter = ',')\n",
                "\n",
                "    for analyzed_row in csv_reader:\n",
                "      # Iterate through all the rows, named 'analyzed_row' from csv_reader\n",
                "      # object:\n",
                "      row_label = analyzed_row[0] # first row value\n",
                "      row_pixels = analyzed_row[1:] # other row values.\n",
                "      \n",
                "      # Now append these values to the list:\n",
                "      labels.append(row_label)\n",
                "      images.append(row_pixels)\n",
                "\n",
                "    # By now, the lists contain all rows, including the first one.\n",
                "    # We must remove elements of index 0.\n",
                "    # Using del keyword\n",
                "    # To remove an element from the list, you can use the del keyword \n",
                "    # followed by a list. You have to pass the index of the element to the \n",
                "    # list. The index starts at 0. Syntax:\n",
                "    # del list[index]\n",
                "    # https://www.guru99.com/python-list-remove-clear-pop-del.html#:~:text=In%20Python%2C%20there%20are%20many%20methods%20available%20on,from%20the%20list%20based%20on%20the%20index%20given.\n",
                "\n",
                "    # Remove elements of index 0 from lists labels and images with pop method:\n",
                "    del labels[0]\n",
                "    del images[0]\n",
                "    # deletes elements with index 0\n",
                "\n",
                "    # Convert the lists to NumPy arrays:\n",
                "    labels = np.array(labels)\n",
                "    images = np.array(images)\n",
                "\n",
                "    # Reshape the arrays:\n",
                "    # Check: https://numpy.org/doc/stable/reference/generated/numpy.reshape.html\n",
                "    # np.reshape(original_array, (X, Y)) converts original_array into\n",
                "    # X arrays with Y shape (e.g. X arrays with Y elements)\n",
                "    # Then, we must reshape the images so that there are X = total_images arrays\n",
                "    # with dimensions Y = (28, 28) - reshape(array, (total_images, 28, 28))\n",
                "    # Notice that we simply increase the dimensions, but the first value is\n",
                "    # the desired total of arrays after reshaping.\n",
                "    \n",
                "    # Total of images:\n",
                "    total_images = len(images)\n",
                "    images = np.reshape(images, (total_images, 28, 28))\n",
                "\n",
                "    # Now convert to the correct data type:\n",
                "    # https://numpy.org/doc/stable/reference/generated/numpy.ndarray.astype.html\n",
                "    labels = labels.astype(np.float64)\n",
                "    images = images.astype(np.float64)\n",
                "    \n",
                "    print(labels)\n",
                "    print(images)\n",
                "\n",
                "    ### END CODE HERE\n",
                "\n",
                "    return images, labels"
            ],
            "metadata": {
                "cellView": "code",
                "id": "EO3u5NIhdNgE",
                "lines_to_next_cell": 2,
                "azdata_cell_guid": "76ec65b2-7326-4b03-8447-9dcd07610714"
            },
            "outputs": [],
            "execution_count": 38
        },
        {
            "cell_type": "code",
            "source": [
                "# Test your function\n",
                "training_images, training_labels = parse_data_from_input(TRAINING_FILE)\n",
                "validation_images, validation_labels = parse_data_from_input(VALIDATION_FILE)\n",
                "\n",
                "print(f\"Training images has shape: {training_images.shape}\")\n",
                "print(f\"Training labels has shape: {training_labels.shape}\")\n",
                "print(f\"Validation images has shape: {validation_images.shape}\")\n",
                "print(f\"Validation labels has shape: {validation_labels.shape}\")"
            ],
            "metadata": {
                "colab": {
                    "base_uri": "https://localhost:8080/"
                },
                "id": "HeSMXBTUsnhl",
                "outputId": "dcd11e92-f14e-4d59-cb4e-bd144a5a1862",
                "azdata_cell_guid": "4763833e-dc77-42d0-aef8-949a3643c057"
            },
            "outputs": [
                {
                    "output_type": "stream",
                    "name": "stdout",
                    "text": "[ 3.  6.  2. ... 18. 17. 23.]\n[[[107. 118. 127. ... 170. 170. 169.]\n  [111. 121. 129. ... 171. 171. 170.]\n  [113. 123. 131. ... 171. 171. 171.]\n  ...\n  [142. 150. 159. ... 202. 201. 200.]\n  [142. 151. 160. ... 204. 203. 202.]\n  [142. 151. 160. ... 204. 203. 202.]]\n\n [[155. 157. 156. ... 138.  92. 108.]\n  [158. 159. 159. ... 142. 116. 143.]\n  [161. 161. 161. ... 147. 125. 140.]\n  ...\n  [162. 159. 145. ...  91. 101.  94.]\n  [153. 139. 115. ...  97.  95. 120.]\n  [135. 116.  95. ... 103. 135. 149.]]\n\n [[187. 188. 188. ...  66.  77.  83.]\n  [188. 189. 189. ...  73.  73.  71.]\n  [190. 190. 190. ...  74.  68.  61.]\n  ...\n  [212. 198. 175. ... 195. 193. 192.]\n  [202. 179. 152. ... 195. 194. 193.]\n  [198. 166. 132. ... 195. 194. 195.]]\n\n ...\n\n [[174. 174. 174. ... 160. 158. 156.]\n  [178. 178. 177. ... 162. 160. 158.]\n  [181. 180. 180. ... 164. 162. 161.]\n  ...\n  [215. 216. 216. ... 201. 199. 198.]\n  [216. 217. 217. ... 201. 200. 198.]\n  [217. 217. 217. ... 202. 200. 200.]]\n\n [[177. 181. 184. ... 181. 179. 177.]\n  [179. 182. 185. ... 183. 181. 179.]\n  [181. 184. 187. ... 185. 183. 182.]\n  ...\n  [129. 132. 134. ...  94. 102.  70.]\n  [131. 134. 132. ...  78. 100.  86.]\n  [136. 135. 135. ...  64.  87.  93.]]\n\n [[179. 180. 180. ...  47.  30.  39.]\n  [180. 182. 183. ...  79.  24.  34.]\n  [184. 184. 185. ... 115.  25.  29.]\n  ...\n  [ 90.  94.  76. ... 109. 150. 172.]\n  [ 94.  93.  89. ... 202. 213. 215.]\n  [ 96.  88. 109. ... 205. 209. 215.]]]\n[ 6.  5. 10. ...  2.  4.  2.]\n[[[149. 149. 150. ... 150. 150. 149.]\n  [150. 150. 150. ... 151. 150. 151.]\n  [150. 151. 151. ... 151. 151. 152.]\n  ...\n  [ 69.  69.  77. ... 116. 113. 118.]\n  [ 74.  75.  76. ... 110. 116. 113.]\n  [ 75.  74.  74. ... 112. 120. 107.]]\n\n [[126. 128. 131. ... 133. 134. 132.]\n  [129. 132. 134. ... 136. 136. 134.]\n  [133. 135. 138. ... 140. 139. 138.]\n  ...\n  [173. 174. 177. ... 184. 182. 181.]\n  [172. 174. 177. ... 184. 182. 181.]\n  [172. 174. 177. ... 184. 182. 180.]]\n\n [[ 85.  88.  92. ... 182. 181. 178.]\n  [ 86.  88.  93. ... 183. 181. 179.]\n  [ 86.  89.  93. ... 185. 183. 181.]\n  ...\n  [ 91.  94.  97. ... 224. 222. 221.]\n  [ 90.  92.  96. ... 225. 224. 222.]\n  [ 89.  91.  94. ... 225. 224. 222.]]\n\n ...\n\n [[190. 191. 190. ... 185. 184. 183.]\n  [193. 193. 193. ... 186. 185. 184.]\n  [195. 194. 195. ... 187. 186. 187.]\n  ...\n  [214. 215. 213. ... 208. 208. 208.]\n  [214. 215. 209. ... 209. 208. 207.]\n  [215. 215. 207. ... 211. 209. 208.]]\n\n [[201. 205. 208. ... 239. 239. 239.]\n  [206. 209. 212. ... 242. 242. 242.]\n  [210. 214. 216. ... 246. 245. 244.]\n  ...\n  [255. 255. 255. ... 255. 200. 142.]\n  [255. 255. 255. ...  99.  80.  77.]\n  [255. 255. 255. ...  67.  70.  63.]]\n\n [[173. 174. 173. ... 168. 167. 166.]\n  [176. 176. 176. ... 168. 168. 167.]\n  [178. 177. 178. ... 169. 168. 169.]\n  ...\n  [198. 199. 199. ... 192. 192. 192.]\n  [198. 200. 193. ... 193. 192. 191.]\n  [199. 201. 190. ... 195. 193. 192.]]]\nTraining images has shape: (27455, 28, 28)\nTraining labels has shape: (27455,)\nValidation images has shape: (7172, 28, 28)\nValidation labels has shape: (7172,)\n"
                }
            ],
            "execution_count": 39
        },
        {
            "cell_type": "markdown",
            "source": [
                "**Expected Output:**\n",
                "```\n",
                "Training images has shape: (27455, 28, 28)\n",
                "Training labels has shape: (27455,)\n",
                "Testing images has shape: (7172, 28, 28)\n",
                "Testing labels has shape: (7172,)\n",
                "```"
            ],
            "metadata": {
                "id": "xwqJykm1JqvK",
                "azdata_cell_guid": "a4edb30a-c07a-4fd1-a00f-ac8ae54fa8cc"
            }
        },
        {
            "cell_type": "markdown",
            "source": [
                "## Visualizing the numpy arrays\n",
                "\n",
                "Now that you have converted the initial csv data into a format that is compatible with computer vision tasks, take a moment to actually see how the images of the dataset look like:"
            ],
            "metadata": {
                "id": "tURDCvUKsXIw",
                "azdata_cell_guid": "8bb3dc2d-cf6c-4b59-b23f-0eced832845c"
            }
        },
        {
            "cell_type": "code",
            "source": [
                "# Plot a sample of 10 images from the training set\n",
                "def plot_categories(training_images, training_labels):\n",
                "  fig, axes = plt.subplots(1, 10, figsize=(16, 15))\n",
                "  axes = axes.flatten()\n",
                "  letters = list(string.ascii_lowercase)\n",
                "\n",
                "  for k in range(10):\n",
                "    img = training_images[k]\n",
                "    img = np.expand_dims(img, axis=-1)\n",
                "    img = array_to_img(img)\n",
                "    ax = axes[k]\n",
                "    ax.imshow(img, cmap=\"Greys_r\")\n",
                "    ax.set_title(f\"{letters[int(training_labels[k])]}\")\n",
                "    ax.set_axis_off()\n",
                "\n",
                "  plt.tight_layout()\n",
                "  plt.show()\n",
                "\n",
                "plot_categories(training_images, training_labels)"
            ],
            "metadata": {
                "colab": {
                    "base_uri": "https://localhost:8080/",
                    "height": 130
                },
                "id": "BsAH3kVWB1ye",
                "outputId": "a968014a-84a3-4145-c740-e47f9f918dc3",
                "azdata_cell_guid": "78c21371-bdd8-465b-bbc1-331c7326ad0a"
            },
            "outputs": [
                {
                    "output_type": "display_data",
                    "data": {
                        "text/plain": "<Figure size 1152x1080 with 10 Axes>",
                        "image/png": "[encoded data removed]"
                    },
                    "metadata": {
                        "needs_background": "light"
                    }
                }
            ],
            "execution_count": 40
        },
        {
            "cell_type": "markdown",
            "source": [
                "## Creating the generators for the CNN\n",
                "\n",
                "Now that you have successfully organized the data in a way that can be easily fed to Keras' `ImageDataGenerator`, it is time for you to code the generators that will yield batches of images, both for training and validation. For this complete the `train_val_generators` function below.\n",
                "\n",
                "Some important notes:\n",
                "\n",
                "- The images in this dataset come in the same resolution so you don't need to set a custom `target_size` in this case. In fact, you can't even do so because this time you will not be using the `flow_from_directory` method (as in previous assignments). Instead you will use the [`flow`](https://www.tensorflow.org/api_docs/python/tf/keras/preprocessing/image/ImageDataGenerator#flow) method.\n",
                "- You need to add the \"color\" dimension to the numpy arrays that encode the images. These are black and white images, so this new dimension should have a size of 1 (instead of 3, which is used when dealing with colored images). Take a look at the function [`np.expand_dims`](https://numpy.org/doc/stable/reference/generated/numpy.expand_dims.html) for this."
            ],
            "metadata": {
                "id": "0QNkjIRCN5Kg",
                "azdata_cell_guid": "abeb0e4c-0c5f-40f4-8e4b-c060b8987886"
            }
        },
        {
            "cell_type": "code",
            "source": [
                "# GRADED FUNCTION: train_val_generators\n",
                "def train_val_generators(training_images, training_labels, validation_images, validation_labels):\n",
                "  ### START CODE HERE\n",
                "\n",
                "  # In this section you will have to add another dimension to the data\n",
                "  # So, for example, if your array is (10000, 28, 28)\n",
                "  # You will need to make it (10000, 28, 28, 1)\n",
                "  # Hint: np.expand_dims\n",
                "  # https://numpy.org/doc/stable/reference/generated/numpy.expand_dims.html\n",
                "  # examples: x = array with dimensions (10000, 28, 28)\n",
                "  # y = np.expand_dims(x, axis=0), y.shape = (1, 1000, 28, 28)\n",
                "  # y = np.expand_dims(x, axis=1), y.shape = (1000, 1, 28, 28)\n",
                "  # y = np.expand_dims(x, axis=2), y.shape = (1000, 28, 1, 28)\n",
                "  # y = np.expand_dims(x, axis=3), y.shape = (1000, 28, 28, 1)\n",
                "\n",
                "  # In summary, we must use axis = 3 to add the new dimension as the 4th axis\n",
                "  # axis numeration go from 0 (first axis)\n",
                "\n",
                "  # Add image depth dimension. Since we are in gray scale, image depth = 1\n",
                "  # If we were in RGB, image depth would be 3.\n",
                "  training_images = np.expand_dims(training_images, axis = 3)\n",
                "  validation_images = np.expand_dims(validation_images, axis = 3)\n",
                "  # Now images are (28, 28, 1)\n",
                "\n",
                "  # Instantiate the ImageDataGenerator class \n",
                "  # Don't forget to normalize pixel values \n",
                "  # and set arguments to augment the images (if desired)\n",
                "  from tensorflow.keras.preprocessing.image import ImageDataGenerator\n",
                "\n",
                "  # Instantiate the ImageDataGenerator class (don't forget to set the rescale argument)\n",
                "  #Pixel intensity goes from 0 to 255. Let's normalize it so that it goes from 0 to 1:\n",
                "  \n",
                "  ## rotation_range is a value in degrees (0–180) within \n",
                "  ##  which to randomly rotate pictures.\n",
                "  ## width_shift and height_shift are ranges (as a fraction of total width or height) \n",
                "  ##  within which to randomly translate pictures vertically or horizontally.\n",
                "  ## shear_range is for randomly applying shearing transformations.\n",
                "  ## zoom_range is for randomly zooming inside pictures.\n",
                "  ## horizontal_flip is for randomly flipping half of the images horizontally. \n",
                "  ##  This is relevant when there are no assumptions of horizontal assymmetry \n",
                "  ##  (e.g. real-world pictures).\n",
                "  ## fill_mode is the strategy used for filling in newly created pixels, \n",
                "  ##  which can appear after a rotation or a width/height shift.\n",
                "  \n",
                "  train_datagen = ImageDataGenerator(rescale = (1.0)/(255.),\n",
                "                                     #rotation_range = 40,\n",
                "                                     #width_shift_range = 0.2,\n",
                "                                     #height_shift_range = 0.2,\n",
                "                                     #shear_range = 0.2,\n",
                "                                     #zoom_range = 0.2,\n",
                "                                     #horizontal_flip = True,\n",
                "                                     fill_mode = 'nearest')\n",
                "\n",
                "  # The images on the dataset do not show flipping, rotation, and show very low\n",
                "  # shift. Therefore, there is no need for most of the augmentation parameters,\n",
                "  # which would mostly compromise the accuracy of the classifier. Here, we need\n",
                "  # to achieve a given accuracy after a fixed number of epochs, so we remove\n",
                "  # such parameters.\n",
                "\n",
                "  # Pass in the appropriate arguments to the flow method\n",
                "  train_generator = train_datagen.flow(x = training_images,\n",
                "                                       y = training_labels,\n",
                "                                       batch_size = 32) \n",
                "\n",
                "  \n",
                "  # Instantiate the ImageDataGenerator class (don't forget to set the rescale argument)\n",
                "  # Remember that validation data should not be augmented\n",
                "  validation_datagen = ImageDataGenerator(rescale = (1.0)/(255.))\n",
                "  # only the rescaling parameter is applied\n",
                "\n",
                "  # Pass in the appropriate arguments to the flow method\n",
                "  validation_generator = validation_datagen.flow(x = validation_images,\n",
                "                                                 y = validation_labels,\n",
                "                                                 batch_size=32) \n",
                "\n",
                "  ### END CODE HERE\n",
                "\n",
                "  return train_generator, validation_generator"
            ],
            "metadata": {
                "cellView": "code",
                "id": "9ZDIvKGtNISO",
                "lines_to_next_cell": 2,
                "azdata_cell_guid": "ec7b59f0-d163-4dcd-a4c7-c7f6b6de2570"
            },
            "outputs": [],
            "execution_count": 77
        },
        {
            "cell_type": "code",
            "source": [
                "# Test your generators\n",
                "train_generator, validation_generator = train_val_generators(training_images, training_labels, validation_images, validation_labels)\n",
                "\n",
                "print(f\"Images of training generator have shape: {train_generator.x.shape}\")\n",
                "print(f\"Labels of training generator have shape: {train_generator.y.shape}\")\n",
                "print(f\"Images of validation generator have shape: {validation_generator.x.shape}\")\n",
                "print(f\"Labels of validation generator have shape: {validation_generator.y.shape}\")"
            ],
            "metadata": {
                "colab": {
                    "base_uri": "https://localhost:8080/"
                },
                "id": "2oxxBZDwPozr",
                "outputId": "a4f4100a-7269-4b74-8728-7e8f30a6609a",
                "azdata_cell_guid": "658a9d22-7e7c-4778-bf28-37a7719f1e94"
            },
            "outputs": [
                {
                    "output_type": "stream",
                    "name": "stdout",
                    "text": "Images of training generator have shape: (27455, 28, 28, 1)\nLabels of training generator have shape: (27455,)\nImages of validation generator have shape: (7172, 28, 28, 1)\nLabels of validation generator have shape: (7172,)\n"
                }
            ],
            "execution_count": 78
        },
        {
            "cell_type": "markdown",
            "source": [
                "**Expected Output:**\n",
                "```\n",
                "Images of training generator have shape: (27455, 28, 28, 1)\n",
                "Labels of training generator have shape: (27455,)\n",
                "Images of validation generator have shape: (7172, 28, 28, 1)\n",
                "Labels of validation generator have shape: (7172,)\n",
                "```"
            ],
            "metadata": {
                "id": "cok5oQa5Rknv",
                "azdata_cell_guid": "984ecb90-70ee-4f5f-bc7e-38bbd88482ea"
            }
        },
        {
            "cell_type": "markdown",
            "source": [
                "## Coding the CNN\n",
                "\n",
                "One last step before training is to define the architecture of the model that will be trained.\n",
                "\n",
                "Complete the `create_model` function below. This function should return a Keras' model that uses the `Sequential` or the `Functional` API.\n",
                "\n",
                "The last layer of your model should have a number of units that corresponds to the number of possible categories, as well as the correct activation function.\n",
                "\n",
                "Aside from defining the architecture of the model, you should also compile it so make sure to use a `loss` function that is suitable for multi-class classification.\n",
                "\n",
                "**Note that you should use no more than 2 Conv2D and 2 MaxPooling2D layers to achieve the desired performance.**"
            ],
            "metadata": {
                "id": "CkHUj4PsP_jT",
                "azdata_cell_guid": "45079e09-5d65-4492-add6-ee2e4f278a99"
            }
        },
        {
            "cell_type": "code",
            "source": [
                "def create_model():\n",
                "\n",
                "  ### START CODE HERE       \n",
                "\n",
                "  # Define the model\n",
                "  # Use no more than 2 Conv2D and 2 MaxPooling2D\n",
                "  model = tf.keras.models.Sequential([ \n",
                "    # Note the input shape is the desired size of the image 28x28 with 1 byte color (grayscale)\n",
                "    \n",
                "    #First convolution:\n",
                "    tf.keras.layers.Conv2D(128, (3,3), activation='relu', input_shape=(28, 28, 1)),\n",
                "    # Kernels are defined as tuples (X, Y), where X is related to the X axis of the image; and Y is related to\n",
                "    # the Y axis of the image.\n",
                "    # A convolution (N, N) kernel reduces the image's axis X by (N-1) pixels; and its axis Y by (N-1) pixels.\n",
                "    #The (3, 3) kernel reduces the image's axis X by 2 pixels; and its axis Y by 2 pixels.\n",
                "    #Now, the image gets (26 x 26) pixels\n",
                "    tf.keras.layers.MaxPooling2D(2,2),\n",
                "    # A (N, N) max pooling divides the axis X by a factor N; and divides axis Y by a factor N.\n",
                "    #The (2, 2) max pooling divides the length of each axis by 2.\n",
                "    #Now, the image gets (13 x 13) pixels.\n",
                "    \n",
                "    ## Notice that the (N x N) pixels image is represented by a tuple (N, N).\n",
                "    # Analogously, the (K, K) tuple of the kernel represents a filter with dimensions (K x K) pixels.\n",
                "    # Then, we use the notations (N x N) and (N, N) interchangeably, since Keras requires the input of the\n",
                "    # image and kernel dimensions as a tuple (N, N).\n",
                "\n",
                "    #Second convolution:\n",
                "    tf.keras.layers.Conv2D(256, (3,3), activation='relu'),\n",
                "    #Image gets (11 x 11)\n",
                "    tf.keras.layers.MaxPooling2D(2,2), \n",
                "    #Image gets (5 x 5) (5.5 is rounded down to 5)\n",
                "\n",
                "    # Flatten the results to feed into a DNN\n",
                "    # Convert the images to 1-dimension NumPy arrays to be processed by the dense\n",
                "    # neural networks.\n",
                "    tf.keras.layers.Flatten(),\n",
                "    tf.keras.layers.Dropout(0.5),\n",
                "    # dropouts help avoid overfitting because neighbor neurons can have \n",
                "    # similar weights, and thus can skew the final training. If dropout rate \n",
                "    # being set too high, the network would lose specialization to the \n",
                "    # effect that it would be inefficient or ineffective at learning, \n",
                "    # driving accuracy down. Dropout(0.5) means a dropout of 50% of the neurons,\n",
                "    # Dropout(0.2) means adding Dropout of 20% of neurons. \n",
                "    # Then, if I put a dropout parameter of 0.2, I will lose 20% of the nodes.\n",
                "\n",
                "    # 512 neurons-hidden layer:\n",
                "    tf.keras.layers.Dense(512, activation='relu'), \n",
                "    # Since we have 26 possible letters, we have 26 possible categories\n",
                "    # Therefore, the last layer must have 26 neurons, one for each\n",
                "    # category, activated through softmax. softmax will calculate the probability\n",
                "    # distribution and the probabilities that the tested element belongs to \n",
                "    # each category.\n",
                "    tf.keras.layers.Dense(26, activation='softmax')  \n",
                "  ])\n",
                "  \n",
                "  #'adam' would automatically adjusts the\n",
                "  #learning rates, i.e., the rate of correction of the weights.\n",
                "  #In the beginning, a too high learning rate leads to very intense errors and\n",
                "  #difficulty on finding the optimum. So, in the beginning, the learning rate \n",
                "  #should be low until the model finds the best direction for adjusting its parameters.\n",
                "  #On the other hand, at the end of the process, the learning rate should be increased.\n",
                "  #If it is not, the model will adjust its weights in a very low rate, and will show very\n",
                "  #few improvement from one epoch to the other.\n",
                "  #RMSProp does not allow us to adjust the learning rate during training, but 'adam' does\n",
                "  #that for us. On the other hand, 'rmsprop' shows a better performance than 'adam' for this\n",
                "  # particular situation.\n",
                "\n",
                "  model.compile(optimizer = 'rmsprop',\n",
                "                loss = 'sparse_categorical_crossentropy',\n",
                "                metrics=['accuracy']) \n",
                "\n",
                "  # If we were dealing with only two classes, we would use binary_crossentropy.\n",
                "  # Now we have multiple classes, so we use categorical_crossentropy \n",
                "  # or the sparse_categorical_crossentropy. Here, since there are so many classes,\n",
                "  # we use sparse_categorical in order for avoiding compilation errors. With fewer\n",
                "  # (e.g. 3), we should use categorical_crossentropy\n",
                "\n",
                "  # To track the image throughout the neural networks, call the model.summary() method and print it:\n",
                "  ## print(model.summary())\n",
                "  # Alternatively, simply call the function and declares in another cell:\n",
                "  ## model.summary()\n",
                "  # Notice that, for printing the whole track of the image, this method must have no arguments, \n",
                "  # so it should be declared with empty parameters.\n",
                "\n",
                "  ### END CODE HERE       \n",
                "  return model"
            ],
            "metadata": {
                "cellView": "code",
                "id": "Rmb7S32cgRqS",
                "azdata_cell_guid": "7c327efe-13d4-4718-afa2-04f423c4a469"
            },
            "outputs": [],
            "execution_count": 81
        },
        {
            "cell_type": "code",
            "source": [
                "# Save your model\n",
                "model = create_model()\n",
                "\n",
                "# Train your model\n",
                "history = model.fit(train_generator,\n",
                "                    epochs=15,\n",
                "                    validation_data=validation_generator)"
            ],
            "metadata": {
                "colab": {
                    "base_uri": "https://localhost:8080/"
                },
                "id": "-e7ywtgZS5pU",
                "lines_to_next_cell": 2,
                "outputId": "ec16e50c-d0c8-4bcd-b437-d32279d1cc04",
                "azdata_cell_guid": "2b55b13d-91ee-488b-8588-90047772013c"
            },
            "outputs": [
                {
                    "output_type": "stream",
                    "name": "stdout",
                    "text": "Epoch 1/15\n858/858 [==============================] - 13s 14ms/step - loss: 0.5412 - accuracy: 0.8322 - val_loss: 0.2552 - val_accuracy: 0.9211\nEpoch 2/15\n858/858 [==============================] - 12s 14ms/step - loss: 0.0277 - accuracy: 0.9913 - val_loss: 0.3451 - val_accuracy: 0.9202\nEpoch 3/15\n858/858 [==============================] - 12s 14ms/step - loss: 0.0142 - accuracy: 0.9960 - val_loss: 0.3911 - val_accuracy: 0.9307\nEpoch 4/15\n858/858 [==============================] - 12s 14ms/step - loss: 0.0077 - accuracy: 0.9976 - val_loss: 0.3703 - val_accuracy: 0.9483\nEpoch 5/15\n858/858 [==============================] - 12s 14ms/step - loss: 0.0087 - accuracy: 0.9975 - val_loss: 0.3866 - val_accuracy: 0.9311\nEpoch 6/15\n858/858 [==============================] - 12s 14ms/step - loss: 0.0082 - accuracy: 0.9976 - val_loss: 0.4982 - val_accuracy: 0.9451\nEpoch 7/15\n858/858 [==============================] - 12s 14ms/step - loss: 0.0046 - accuracy: 0.9987 - val_loss: 0.6449 - val_accuracy: 0.9354\nEpoch 8/15\n858/858 [==============================] - 12s 14ms/step - loss: 0.0050 - accuracy: 0.9986 - val_loss: 0.6658 - val_accuracy: 0.9424\nEpoch 9/15\n858/858 [==============================] - 12s 14ms/step - loss: 0.0042 - accuracy: 0.9989 - val_loss: 0.6303 - val_accuracy: 0.9469\nEpoch 10/15\n858/858 [==============================] - 12s 14ms/step - loss: 0.0060 - accuracy: 0.9984 - val_loss: 0.5297 - val_accuracy: 0.9561\nEpoch 11/15\n858/858 [==============================] - 13s 15ms/step - loss: 0.0043 - accuracy: 0.9991 - val_loss: 0.4626 - val_accuracy: 0.9523\nEpoch 12/15\n858/858 [==============================] - 13s 15ms/step - loss: 0.0024 - accuracy: 0.9993 - val_loss: 0.5596 - val_accuracy: 0.9544\nEpoch 13/15\n858/858 [==============================] - 12s 14ms/step - loss: 0.0029 - accuracy: 0.9993 - val_loss: 0.7256 - val_accuracy: 0.9515\nEpoch 14/15\n858/858 [==============================] - 12s 14ms/step - loss: 0.0048 - accuracy: 0.9989 - val_loss: 0.7564 - val_accuracy: 0.9382\nEpoch 15/15\n858/858 [==============================] - 12s 14ms/step - loss: 0.0042 - accuracy: 0.9991 - val_loss: 0.7754 - val_accuracy: 0.9506\n"
                }
            ],
            "execution_count": 82
        },
        {
            "cell_type": "markdown",
            "source": [
                "Now take a look at your training history:"
            ],
            "metadata": {
                "id": "mmpadXR_WGbK",
                "azdata_cell_guid": "d882fe13-3300-4935-958a-7a520a5a1a51"
            }
        },
        {
            "cell_type": "code",
            "source": [
                "# Plot the chart for accuracy and loss on both training and validation\n",
                "acc = history.history['accuracy']\n",
                "val_acc = history.history['val_accuracy']\n",
                "loss = history.history['loss']\n",
                "val_loss = history.history['val_loss']\n",
                "\n",
                "epochs = range(len(acc))\n",
                "\n",
                "plt.plot(epochs, acc, 'r', label='Training accuracy')\n",
                "plt.plot(epochs, val_acc, 'b', label='Validation accuracy')\n",
                "plt.title('Training and validation accuracy')\n",
                "plt.legend()\n",
                "plt.figure()\n",
                "\n",
                "plt.plot(epochs, loss, 'r', label='Training Loss')\n",
                "plt.plot(epochs, val_loss, 'b', label='Validation Loss')\n",
                "plt.title('Training and validation loss')\n",
                "plt.legend()\n",
                "\n",
                "plt.show()"
            ],
            "metadata": {
                "colab": {
                    "base_uri": "https://localhost:8080/",
                    "height": 545
                },
                "id": "_Q3Zpr46dsij",
                "outputId": "f2caf951-f512-4d41-8381-4b968ca6d187",
                "azdata_cell_guid": "93c5d9c6-8f83-47d1-8444-35839be84431"
            },
            "outputs": [
                {
                    "output_type": "display_data",
                    "data": {
                        "text/plain": "<Figure size 432x288 with 1 Axes>",
                        "image/png": "[encoded data removed]"
                    },
                    "metadata": {
                        "needs_background": "light"
                    }
                },
                {
                    "output_type": "display_data",
                    "data": {
                        "text/plain": "<Figure size 432x288 with 1 Axes>",
                        "image/png": "[encoded data removed]"
                    },
                    "metadata": {
                        "needs_background": "light"
                    }
                }
            ],
            "execution_count": 83
        },
        {
            "cell_type": "markdown",
            "source": [
                "You will not be graded based on the accuracy of your model but try making it as high as possible for both training and validation, as an optional exercise, **after submitting your notebook for grading**.\n",
                "\n",
                "A reasonable benchmark is to achieve over 99% accuracy for training and over 95% accuracy for validation within 15 epochs. Try tweaking your model's architecture or the augmentation techniques to see if you can achieve these levels of accuracy."
            ],
            "metadata": {
                "id": "PdWizvXnXAGz",
                "azdata_cell_guid": "af1c8487-fe2d-4457-b7f9-28355a07f0a4"
            }
        },
        {
            "cell_type": "markdown",
            "source": [
                "You need to submit this notebook for grading. To download it, click on the `File` tab in the upper left corner of the screen then click on `Download` -> `Download .ipynb`. You can name it anything you want as long as it is a valid `.ipynb` (jupyter notebook) file."
            ],
            "metadata": {
                "id": "uTikUFbYTqBo",
                "azdata_cell_guid": "b4de8f90-de08-41f3-8e89-aec9f46e0d12"
            }
        },
        {
            "cell_type": "code",
            "source": [
                "def download_history():\n",
                "  import pickle\n",
                "  from google.colab import files\n",
                "\n",
                "  with open('history.pkl', 'wb') as f:\n",
                "    pickle.dump(history.history, f)\n",
                "\n",
                "  files.download('history.pkl')\n",
                "\n",
                "download_history()"
            ],
            "metadata": {
                "id": "ix1hx6hs8z5x",
                "outputId": "cad0f5f0-8214-4f57-888c-223b021fba87",
                "colab": {
                    "base_uri": "https://localhost:8080/",
                    "height": 17
                },
                "azdata_cell_guid": "56035147-9dde-492d-86c9-31a1ffd19756"
            },
            "outputs": [
                {
                    "output_type": "display_data",
                    "data": {
                        "text/plain": "<IPython.core.display.Javascript object>",
                        "application/javascript": "\n    async function download(id, filename, size) {\n      if (!google.colab.kernel.accessAllowed) {\n        return;\n      }\n      const div = document.createElement('div');\n      const label = document.createElement('label');\n      label.textContent = `Downloading \"${filename}\": `;\n      div.appendChild(label);\n      const progress = document.createElement('progress');\n      progress.max = size;\n      div.appendChild(progress);\n      document.body.appendChild(div);\n\n      const buffers = [];\n      let downloaded = 0;\n\n      const channel = await google.colab.kernel.comms.open(id);\n      // Send a message to notify the kernel that we're ready.\n      channel.send({})\n\n      for await (const message of channel.messages) {\n        // Send a message to notify the kernel that we're ready.\n        channel.send({})\n        if (message.buffers) {\n          for (const buffer of message.buffers) {\n            buffers.push(buffer);\n            downloaded += buffer.byteLength;\n            progress.value = downloaded;\n          }\n        }\n      }\n      const blob = new Blob(buffers, {type: 'application/binary'});\n      const a = document.createElement('a');\n      a.href = window.URL.createObjectURL(blob);\n      a.download = filename;\n      div.appendChild(a);\n      a.click();\n      div.remove();\n    }\n  "
                    },
                    "metadata": {}
                },
                {
                    "output_type": "display_data",
                    "data": {
                        "text/plain": "<IPython.core.display.Javascript object>",
                        "application/javascript": "download(\"download_cf421b99-626f-4d73-bc95-081496b34286\", \"history.pkl\", 628)"
                    },
                    "metadata": {}
                }
            ],
            "execution_count": 84
        },
        {
            "cell_type": "code",
            "source": [
                "def download_model():\n",
                "  \n",
                "  from google.colab import files\n",
                "\n",
                "  model.save('SignLanguageMNIST.h5')\n",
                "    \n",
                "  files.download('SignLanguageMNIST.h5')\n",
                "\n",
                "download_model()"
            ],
            "metadata": {
                "id": "hV_MZR6387C6",
                "outputId": "22a9ab35-d57d-4270-baad-20d1bdc54bb5",
                "colab": {
                    "base_uri": "https://localhost:8080/",
                    "height": 17
                },
                "azdata_cell_guid": "1b7fe4bc-6dfe-4d6f-894a-12c9df15319d"
            },
            "outputs": [
                {
                    "output_type": "display_data",
                    "data": {
                        "text/plain": "<IPython.core.display.Javascript object>",
                        "application/javascript": "\n    async function download(id, filename, size) {\n      if (!google.colab.kernel.accessAllowed) {\n        return;\n      }\n      const div = document.createElement('div');\n      const label = document.createElement('label');\n      label.textContent = `Downloading \"${filename}\": `;\n      div.appendChild(label);\n      const progress = document.createElement('progress');\n      progress.max = size;\n      div.appendChild(progress);\n      document.body.appendChild(div);\n\n      const buffers = [];\n      let downloaded = 0;\n\n      const channel = await google.colab.kernel.comms.open(id);\n      // Send a message to notify the kernel that we're ready.\n      channel.send({})\n\n      for await (const message of channel.messages) {\n        // Send a message to notify the kernel that we're ready.\n        channel.send({})\n        if (message.buffers) {\n          for (const buffer of message.buffers) {\n            buffers.push(buffer);\n            downloaded += buffer.byteLength;\n            progress.value = downloaded;\n          }\n        }\n      }\n      const blob = new Blob(buffers, {type: 'application/binary'});\n      const a = document.createElement('a');\n      a.href = window.URL.createObjectURL(blob);\n      a.download = filename;\n      div.appendChild(a);\n      a.click();\n      div.remove();\n    }\n  "
                    },
                    "metadata": {}
                },
                {
                    "output_type": "display_data",
                    "data": {
                        "text/plain": "<IPython.core.display.Javascript object>",
                        "application/javascript": "download(\"download_11534f39-d06c-4100-9921-e87ad2307987\", \"SignLanguageMNIST.h5\", 28741944)"
                    },
                    "metadata": {}
                }
            ],
            "execution_count": 85
        },
        {
            "cell_type": "markdown",
            "source": [
                "**Congratulations on finishing this week's assignment!**\n",
                "\n",
                "You have successfully implemented a convolutional neural network that is able to perform multi-class classification tasks! Nice job!\n",
                "\n",
                "**Keep it up!**"
            ],
            "metadata": {
                "id": "DmHC02GaTuDg",
                "azdata_cell_guid": "ef6434bd-2338-4353-901c-e6b69299869d"
            }
        }
    ]
}